{
 "cells": [
  {
   "cell_type": "code",
   "execution_count": 3,
   "metadata": {},
   "outputs": [
    {
     "name": "stdout",
     "output_type": "stream",
     "text": [
      "the area of the circle =  78.5\n"
     ]
    }
   ],
   "source": [
    "import math\n",
    "from re import X\n",
    "from tkinter import Y\n",
    "\n",
    "# 1 area of a circle\n",
    "\n",
    "PI = round(math.pi, 2)\n",
    "radius = eval(input(\"input radius: \")) ** 2\n",
    "area = radius * PI\n",
    "print(\"the area of the circle = \", area)"
   ]
  },
  {
   "cell_type": "code",
   "execution_count": 1,
   "metadata": {},
   "outputs": [
    {
     "name": "stdout",
     "output_type": "stream",
     "text": [
      "world hello\n"
     ]
    }
   ],
   "source": [
    "# 2 first & last name\n",
    "\n",
    "first = input(\"input your first name: \")\n",
    "last = input(\"input your last name: \")\n",
    "print(last, first)"
   ]
  },
  {
   "cell_type": "code",
   "execution_count": null,
   "metadata": {},
   "outputs": [],
   "source": [
    "# 3 first and last color\n",
    "\n",
    "lst = [\"red\", \"green\", \"black\", \"white\"]\n",
    "def first_and_last(color_list):\n",
    "  print(color_list[0])\n",
    "  print(color_list[-1])\n",
    "first_and_last(lst)"
   ]
  },
  {
   "cell_type": "code",
   "execution_count": 2,
   "metadata": {},
   "outputs": [
    {
     "name": "stdout",
     "output_type": "stream",
     "text": [
      "84\n"
     ]
    }
   ],
   "source": [
    "# 4 n+nn+nnn\n",
    "\n",
    "n = eval(input(\"input integer: \"))\n",
    "print(n+(n*n)+(n*n*n))"
   ]
  },
  {
   "cell_type": "code",
   "execution_count": null,
   "metadata": {},
   "outputs": [],
   "source": [
    "# 5 volume of sphere\n",
    "\n",
    "PI = math.pi\n",
    "radius = eval(input(\"input radius: \"))\n",
    "volume = round(4 / 3 * PI * (radius ** 3), 2)\n",
    "print(\"the volume of the sphere = \", volume)"
   ]
  },
  {
   "cell_type": "code",
   "execution_count": null,
   "metadata": {},
   "outputs": [],
   "source": [
    "# 6 difference between 17\n",
    "\n",
    "num = eval(input(\"input a number: \"))\n",
    "if num > 17:\n",
    "  num = (num - 17) * 2\n",
    "  print(num)\n",
    "else:\n",
    "  num = num - 17\n",
    "  print(\"the difference between your number and 17 = \", num)"
   ]
  },
  {
   "cell_type": "code",
   "execution_count": null,
   "metadata": {},
   "outputs": [],
   "source": [
    "# 7 thrice of their sum\n",
    "\n",
    "num1 = eval(input(\"input the first number: \"))\n",
    "num2 = eval(input(\"input the second number: \"))\n",
    "num3 = eval(input(\"input the third number: \"))\n",
    "if num1 == num2 == num3:\n",
    "  print((num1 + num2 + num3) * 3)\n",
    "else:\n",
    "  print(num1 + num2 + num3)"
   ]
  },
  {
   "cell_type": "code",
   "execution_count": null,
   "metadata": {},
   "outputs": [],
   "source": [
    "# 8 even or odd\n",
    "\n",
    "number = eval(input(\"input a number: \"))\n",
    "if number % 2 == 0:\n",
    "  print(\"the number is even\")\n",
    "else:\n",
    "  print(\"the number is odd\")"
   ]
  },
  {
   "cell_type": "code",
   "execution_count": null,
   "metadata": {},
   "outputs": [],
   "source": [
    "# 9 vowel or not?\n",
    "\n",
    "letter = input(\"input a letter: \")\n",
    "if letter == \"a\" or letter == \"i\" or letter == \"o\" or letter == \"u\" or letter == \"e\":\n",
    "  print(\"The letter is a vowel\")\n",
    "else:\n",
    "  print(\"The letter is not a vowel!\")\n"
   ]
  },
  {
   "cell_type": "code",
   "execution_count": null,
   "metadata": {},
   "outputs": [],
   "source": [
    "# 10 contained in a group\n",
    "\n",
    "num = eval(input(\"input number: \"))\n",
    "lst = [1, 10, 24, 5, 8, 30, 75, 41]\n",
    "index = 0 \n",
    "while index < len(lst):\n",
    "  if lst[index] == num:\n",
    "    print(lst[index], \"contains in the list\")\n",
    "    break\n",
    "  else:\n",
    "    index += 1\n",
    "  if index == len(lst):\n",
    "    print(num, \"doesn't contain in the list\")"
   ]
  },
  {
   "cell_type": "code",
   "execution_count": null,
   "metadata": {},
   "outputs": [],
   "source": [
    "# 11 histogram\n",
    "\n",
    "lst = [1, 2, 3, 4, 5]\n",
    "def histogram(lst):\n",
    "    for i in lst:\n",
    "        line = \"\"\n",
    "        while i > 0:\n",
    "            line = line + \"-\"\n",
    "            i = i-1 \n",
    "        print(line)\n",
    "histogram(lst)"
   ]
  },
  {
   "cell_type": "code",
   "execution_count": null,
   "metadata": {},
   "outputs": [],
   "source": [
    "# 12 print even numbers\n",
    "\n",
    "lst = [386, 462, 47, 418, 907, 344, 236, 375, 823, 566, 597, 978, 328, 615, 953, 345,\n",
    "399, 162, 758, 219, 918, 237, 412, 566, 826, 248, 866, 950, 626, 949, 687, 217,\n",
    "815, 67, 104, 58, 512, 24, 892, 894, 767, 553, 81, 379, 843, 831, 445, 742, 717,\n",
    "958,743, 527]\n",
    "index = 0\n",
    "while index < len(lst):\n",
    "  if lst[index] % 2 == 0:\n",
    "    print(lst[index])\n",
    "  index += 1"
   ]
  },
  {
   "cell_type": "code",
   "execution_count": null,
   "metadata": {},
   "outputs": [],
   "source": [
    "# 13 area of a triangle\n",
    "\n",
    "base = eval(input(\"input the base of a triangle: \"))\n",
    "height = eval(input(\"input the height of a triangle: \"))\n",
    "area = round(base * height / 2)\n",
    "print(\"the area of a triangle = \", area)"
   ]
  },
  {
   "cell_type": "code",
   "execution_count": 12,
   "metadata": {},
   "outputs": [
    {
     "name": "stdout",
     "output_type": "stream",
     "text": [
      "80\n"
     ]
    }
   ],
   "source": [
    "# 14 LCM\n",
    "\n",
    "def lcm(num1, num2):\n",
    "    if num1 > num2:\n",
    "        greater = num1\n",
    "    else:\n",
    "        greater = num2\n",
    "    while(True):\n",
    "        if(greater % num1 == 0) and (greater % num2 == 0):\n",
    "            lcm = greater\n",
    "            break\n",
    "        greater += 1\n",
    "    return lcm\n",
    "\n",
    "print(lcm(16,20))\n"
   ]
  },
  {
   "cell_type": "code",
   "execution_count": null,
   "metadata": {},
   "outputs": [],
   "source": [
    "# 15 sum of 3 integers or return 0\n",
    "\n",
    "first = eval(input(\"input the first number: \"))\n",
    "second = eval(input(\"input the second number: \"))\n",
    "third = eval(input(\"input the third number: \"))\n",
    "if first == second or first == third or second == third:\n",
    "  print(0)\n",
    "else:\n",
    "  print(first + second + third)"
   ]
  },
  {
   "cell_type": "code",
   "execution_count": null,
   "metadata": {},
   "outputs": [],
   "source": [
    "#  16 (x+y) * (x+y)\n",
    "\n",
    "x = eval(input(\"input x: \"))\n",
    "y = eval(input(\"input y: \"))\n",
    "print((x + y) ** 2)"
   ]
  },
  {
   "cell_type": "code",
   "execution_count": null,
   "metadata": {},
   "outputs": [],
   "source": [
    "# 17 future value\n",
    "\n",
    "amount = 10000\n",
    "interest_rate = 3.5\n",
    "years = 7\n",
    "future_value = round(amount*((1+(0.01 * interest_rate)) ** years), 2)\n",
    "print(future_value)"
   ]
  },
  {
   "cell_type": "code",
   "execution_count": null,
   "metadata": {},
   "outputs": [],
   "source": [
    "# 18 distance of point\n",
    "\n",
    "x1 = eval(input(\"input x1: \"))\n",
    "x2 = eval(input(\"input x2: \"))\n",
    "y1 = eval(input(\"input y1: \"))\n",
    "y2 = eval(input(\"input y2: \"))\n",
    "d = math.sqrt((((x2 - x1) ** 2) + (y2 - y1) ** 2))\n",
    "print(round(d, 2))"
   ]
  },
  {
   "cell_type": "code",
   "execution_count": null,
   "metadata": {},
   "outputs": [],
   "source": [
    "# 19 factorial\n",
    "\n",
    "num = eval(input(\"input number: \"))\n",
    "total = 0\n",
    "while num != 0:\n",
    "  total += num\n",
    "  num -= 1\n",
    "print(total)"
   ]
  },
  {
   "cell_type": "code",
   "execution_count": null,
   "metadata": {},
   "outputs": [],
   "source": [
    "# 20 feet & inches to cm \n",
    "\n",
    "feet = eval(input(\"input height in feet: \"))\n",
    "inch = eval(input(\"input height in inch: \"))\n",
    "feet_to_cm = feet * 30.48\n",
    "inch_to_cm = inch * 2.54\n",
    "inches = \"\"\n",
    "foot = \"\"\n",
    "if feet >= 2:\n",
    "  foot = \"feet\"\n",
    "else:\n",
    "  foot = \"foot\"\n",
    "if inch >= 2:\n",
    "  inches = \"inches\"\n",
    "else:\n",
    "  inches = \"inch\"\n",
    "print(feet, foot ,\" = \", feet_to_cm)\n",
    "print(inch, inches, \" = \", inch_to_cm)"
   ]
  },
  {
   "cell_type": "code",
   "execution_count": null,
   "metadata": {},
   "outputs": [],
   "source": [
    "# 21 hypotenuse of a right angled triangle\n",
    "\n",
    "a = eval(input(\"input leg a: \"))\n",
    "b = eval(input(\"input leg b: \"))\n",
    "hypotenuse = round(math.sqrt((a ** 2) + (b ** 2)), 2)\n",
    "print(\"the hypotenuse of a right triangle is: \", hypotenuse)"
   ]
  },
  {
   "cell_type": "code",
   "execution_count": null,
   "metadata": {},
   "outputs": [],
   "source": [
    "# 22 body mass index\n",
    "\n",
    "mass = eval(input(\"input your mass in kg: \"))\n",
    "height = eval(input(\"input your height in cm: \")) / 100\n",
    "squared_height = round(height ** 2, 2)\n",
    "bmi = round(mass / squared_height, 1)\n",
    "print(\"your body mass index = \", bmi)\n",
    "if bmi < 18.5:\n",
    "  print(\"you're underweight\")\n",
    "elif bmi < 25:\n",
    "  print(\"you're healthy\")\n",
    "elif bmi < 30:\n",
    "  print(\"you're overweight\")\n",
    "else:\n",
    "  print(\"you're obese\")\n"
   ]
  },
  {
   "cell_type": "code",
   "execution_count": null,
   "metadata": {},
   "outputs": [],
   "source": [
    "# 23 midpoint\n",
    "\n",
    "x1 = eval(input(\"input x1: \"))\n",
    "x2 = eval(input(\"input x2: \"))\n",
    "y1 = eval(input(\"input y1: \"))\n",
    "y2 = eval(input(\"input y2: \"))\n",
    "def midpoint(x1, x2, y1, y2):\n",
    "    return ((x1 + x2)/ 2,(y1 + y2)/ 2 )\n",
    "print(midpoint(x1, x2, y1, y2))"
   ]
  },
  {
   "cell_type": "code",
   "execution_count": null,
   "metadata": {},
   "outputs": [],
   "source": [
    "# 24 numbers divisible by 7, but not a multiplied by 5 between 2000 - 3200\n",
    "\n",
    "index = 2000\n",
    "lst = []\n",
    "by_5 = []\n",
    "while index <= 3200:\n",
    "  if index % 7 == 0:\n",
    "    lst.append(index)\n",
    "  elif index % 5 == 0:\n",
    "    by_5.append(index)\n",
    "  index += 1\n",
    "print(lst)"
   ]
  }
 ],
 "metadata": {
  "kernelspec": {
   "display_name": "Python 3.10.7 64-bit",
   "language": "python",
   "name": "python3"
  },
  "language_info": {
   "codemirror_mode": {
    "name": "ipython",
    "version": 3
   },
   "file_extension": ".py",
   "mimetype": "text/x-python",
   "name": "python",
   "nbconvert_exporter": "python",
   "pygments_lexer": "ipython3",
   "version": "3.10.7"
  },
  "orig_nbformat": 4,
  "vscode": {
   "interpreter": {
    "hash": "aee8b7b246df8f9039afb4144a1f6fd8d2ca17a180786b69acc140d282b71a49"
   }
  }
 },
 "nbformat": 4,
 "nbformat_minor": 2
}
